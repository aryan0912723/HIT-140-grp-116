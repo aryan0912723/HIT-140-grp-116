{
  "cells": [
    {
      "cell_type": "markdown",
      "id": "e0ea42eb",
      "metadata": {
        "id": "e0ea42eb"
      },
      "source": [
        "\n",
        "# HIT140 Assessment 3 — Bat vs Rat: Full Colab Workflow\n",
        "Setup → Load → Clean → EDA → Tests → Feature Engineering → Outputs\n",
        "\n",
        "> Fill in the short interpretation prompts after each analysis block.\n"
      ]
    },
    {
      "cell_type": "code",
      "source": [
        "from google.colab import drive\n",
        "drive.mount('/content/drive')"
      ],
      "metadata": {
        "colab": {
          "base_uri": "https://localhost:8080/"
        },
        "id": "yx7utENozdW3",
        "outputId": "e1dcacc4-e74c-4416-9945-c3efd461b3b7"
      },
      "id": "yx7utENozdW3",
      "execution_count": 1,
      "outputs": [
        {
          "output_type": "stream",
          "name": "stdout",
          "text": [
            "Mounted at /content/drive\n"
          ]
        }
      ]
    },
    {
      "cell_type": "code",
      "source": [
        "import os, pathlib\n",
        "BASE = \"/content/drive/MyDrive/bat_rat_project\"\n",
        "for p in [\n",
        "    f\"{BASE}/notebooks\",\n",
        "    f\"{BASE}/data\",\n",
        "    f\"{BASE}/outputs/A/figs\", f\"{BASE}/outputs/A/tables\",\n",
        "    f\"{BASE}/outputs/B/figs\", f\"{BASE}/outputs/B/tables\",\n",
        "]:\n",
        "    pathlib.Path(p).mkdir(parents=True, exist_ok=True)\n"
      ],
      "metadata": {
        "id": "kg4M2ZqUjtu3"
      },
      "id": "kg4M2ZqUjtu3",
      "execution_count": 2,
      "outputs": []
    },
    {
      "cell_type": "markdown",
      "id": "f142f5e4",
      "metadata": {
        "id": "f142f5e4"
      },
      "source": [
        "## 1) Setup and Configuration"
      ]
    },
    {
      "cell_type": "markdown",
      "source": [],
      "metadata": {
        "id": "NwHKGoUaEzGm"
      },
      "id": "NwHKGoUaEzGm"
    },
    {
      "cell_type": "code",
      "execution_count": 3,
      "id": "60f95d52",
      "metadata": {
        "id": "60f95d52"
      },
      "outputs": [],
      "source": [
        "\n",
        "# Paths. Update if your files are elsewhere (e.g., Drive).\n",
        "DATASET1_PATH = \"/content/dataset1.csv\"\n",
        "DATASET2_PATH = \"/content/dataset2.csv\"\n",
        "OUTPUT_DIR = \"/content/outputs\"\n",
        "\n",
        "import os\n",
        "os.makedirs(OUTPUT_DIR, exist_ok=True)\n",
        "\n",
        "# Libraries\n",
        "import pandas as pd\n",
        "import numpy as np\n",
        "import matplotlib.pyplot as plt\n",
        "\n",
        "from scipy import stats\n",
        "import statsmodels.api as sm\n",
        "import statsmodels.formula.api as smf\n",
        "\n",
        "# Helper for saving single-plot figures\n",
        "def save_current_plot(name):\n",
        "    path = f\"{OUTPUT_DIR}/{name}.png\"\n",
        "    plt.savefig(path, bbox_inches=\"tight\")\n",
        "    plt.close()\n",
        "    print(f\"Saved: {path}\")\n"
      ]
    },
    {
      "cell_type": "markdown",
      "id": "3b68fb40",
      "metadata": {
        "id": "3b68fb40"
      },
      "source": [
        "## 2) Load Data"
      ]
    },
    {
      "cell_type": "code",
      "execution_count": 4,
      "id": "6b4bf3bc",
      "metadata": {
        "colab": {
          "base_uri": "https://localhost:8080/",
          "height": 1000
        },
        "id": "6b4bf3bc",
        "outputId": "ccab3c87-4248-4f9e-b542-971b62150fe8"
      },
      "outputs": [
        {
          "output_type": "stream",
          "name": "stdout",
          "text": [
            "dataset1 shape: (907, 12)\n",
            "dataset2 shape: (2123, 7)\n"
          ]
        },
        {
          "output_type": "display_data",
          "data": {
            "text/plain": [
              "         start_time  bat_landing_to_food habit  rat_period_start  \\\n",
              "0  30/12/2017 18:37            16.000000   rat  30/12/2017 18:35   \n",
              "1  30/12/2017 19:51             0.074016  fast  30/12/2017 19:50   \n",
              "2  30/12/2017 19:51             4.000000  fast  30/12/2017 19:50   \n",
              "3  30/12/2017 19:52            10.000000   rat  30/12/2017 19:50   \n",
              "4  30/12/2017 19:54            15.000000   rat  30/12/2017 19:50   \n",
              "\n",
              "     rat_period_end  seconds_after_rat_arrival  risk  reward  month  \\\n",
              "0  30/12/2017 18:38                        108     1       0      0   \n",
              "1  30/12/2017 19:55                         17     0       1      0   \n",
              "2  30/12/2017 19:55                         41     0       1      0   \n",
              "3  30/12/2017 19:55                        111     1       0      0   \n",
              "4  30/12/2017 19:55                        194     1       0      0   \n",
              "\n",
              "        sunset_time  hours_after_sunset  season  \n",
              "0  30/12/2017 16:45            1.870833       0  \n",
              "1  30/12/2017 16:45            3.100833       0  \n",
              "2  30/12/2017 16:45            3.107500       0  \n",
              "3  30/12/2017 16:45            3.126944       0  \n",
              "4  30/12/2017 16:45            3.150000       0  "
            ],
            "text/html": [
              "\n",
              "  <div id=\"df-9e5f8d38-cacd-4d64-8973-2b3b6644b3ad\" class=\"colab-df-container\">\n",
              "    <div>\n",
              "<style scoped>\n",
              "    .dataframe tbody tr th:only-of-type {\n",
              "        vertical-align: middle;\n",
              "    }\n",
              "\n",
              "    .dataframe tbody tr th {\n",
              "        vertical-align: top;\n",
              "    }\n",
              "\n",
              "    .dataframe thead th {\n",
              "        text-align: right;\n",
              "    }\n",
              "</style>\n",
              "<table border=\"1\" class=\"dataframe\">\n",
              "  <thead>\n",
              "    <tr style=\"text-align: right;\">\n",
              "      <th></th>\n",
              "      <th>start_time</th>\n",
              "      <th>bat_landing_to_food</th>\n",
              "      <th>habit</th>\n",
              "      <th>rat_period_start</th>\n",
              "      <th>rat_period_end</th>\n",
              "      <th>seconds_after_rat_arrival</th>\n",
              "      <th>risk</th>\n",
              "      <th>reward</th>\n",
              "      <th>month</th>\n",
              "      <th>sunset_time</th>\n",
              "      <th>hours_after_sunset</th>\n",
              "      <th>season</th>\n",
              "    </tr>\n",
              "  </thead>\n",
              "  <tbody>\n",
              "    <tr>\n",
              "      <th>0</th>\n",
              "      <td>30/12/2017 18:37</td>\n",
              "      <td>16.000000</td>\n",
              "      <td>rat</td>\n",
              "      <td>30/12/2017 18:35</td>\n",
              "      <td>30/12/2017 18:38</td>\n",
              "      <td>108</td>\n",
              "      <td>1</td>\n",
              "      <td>0</td>\n",
              "      <td>0</td>\n",
              "      <td>30/12/2017 16:45</td>\n",
              "      <td>1.870833</td>\n",
              "      <td>0</td>\n",
              "    </tr>\n",
              "    <tr>\n",
              "      <th>1</th>\n",
              "      <td>30/12/2017 19:51</td>\n",
              "      <td>0.074016</td>\n",
              "      <td>fast</td>\n",
              "      <td>30/12/2017 19:50</td>\n",
              "      <td>30/12/2017 19:55</td>\n",
              "      <td>17</td>\n",
              "      <td>0</td>\n",
              "      <td>1</td>\n",
              "      <td>0</td>\n",
              "      <td>30/12/2017 16:45</td>\n",
              "      <td>3.100833</td>\n",
              "      <td>0</td>\n",
              "    </tr>\n",
              "    <tr>\n",
              "      <th>2</th>\n",
              "      <td>30/12/2017 19:51</td>\n",
              "      <td>4.000000</td>\n",
              "      <td>fast</td>\n",
              "      <td>30/12/2017 19:50</td>\n",
              "      <td>30/12/2017 19:55</td>\n",
              "      <td>41</td>\n",
              "      <td>0</td>\n",
              "      <td>1</td>\n",
              "      <td>0</td>\n",
              "      <td>30/12/2017 16:45</td>\n",
              "      <td>3.107500</td>\n",
              "      <td>0</td>\n",
              "    </tr>\n",
              "    <tr>\n",
              "      <th>3</th>\n",
              "      <td>30/12/2017 19:52</td>\n",
              "      <td>10.000000</td>\n",
              "      <td>rat</td>\n",
              "      <td>30/12/2017 19:50</td>\n",
              "      <td>30/12/2017 19:55</td>\n",
              "      <td>111</td>\n",
              "      <td>1</td>\n",
              "      <td>0</td>\n",
              "      <td>0</td>\n",
              "      <td>30/12/2017 16:45</td>\n",
              "      <td>3.126944</td>\n",
              "      <td>0</td>\n",
              "    </tr>\n",
              "    <tr>\n",
              "      <th>4</th>\n",
              "      <td>30/12/2017 19:54</td>\n",
              "      <td>15.000000</td>\n",
              "      <td>rat</td>\n",
              "      <td>30/12/2017 19:50</td>\n",
              "      <td>30/12/2017 19:55</td>\n",
              "      <td>194</td>\n",
              "      <td>1</td>\n",
              "      <td>0</td>\n",
              "      <td>0</td>\n",
              "      <td>30/12/2017 16:45</td>\n",
              "      <td>3.150000</td>\n",
              "      <td>0</td>\n",
              "    </tr>\n",
              "  </tbody>\n",
              "</table>\n",
              "</div>\n",
              "    <div class=\"colab-df-buttons\">\n",
              "\n",
              "  <div class=\"colab-df-container\">\n",
              "    <button class=\"colab-df-convert\" onclick=\"convertToInteractive('df-9e5f8d38-cacd-4d64-8973-2b3b6644b3ad')\"\n",
              "            title=\"Convert this dataframe to an interactive table.\"\n",
              "            style=\"display:none;\">\n",
              "\n",
              "  <svg xmlns=\"http://www.w3.org/2000/svg\" height=\"24px\" viewBox=\"0 -960 960 960\">\n",
              "    <path d=\"M120-120v-720h720v720H120Zm60-500h600v-160H180v160Zm220 220h160v-160H400v160Zm0 220h160v-160H400v160ZM180-400h160v-160H180v160Zm440 0h160v-160H620v160ZM180-180h160v-160H180v160Zm440 0h160v-160H620v160Z\"/>\n",
              "  </svg>\n",
              "    </button>\n",
              "\n",
              "  <style>\n",
              "    .colab-df-container {\n",
              "      display:flex;\n",
              "      gap: 12px;\n",
              "    }\n",
              "\n",
              "    .colab-df-convert {\n",
              "      background-color: #E8F0FE;\n",
              "      border: none;\n",
              "      border-radius: 50%;\n",
              "      cursor: pointer;\n",
              "      display: none;\n",
              "      fill: #1967D2;\n",
              "      height: 32px;\n",
              "      padding: 0 0 0 0;\n",
              "      width: 32px;\n",
              "    }\n",
              "\n",
              "    .colab-df-convert:hover {\n",
              "      background-color: #E2EBFA;\n",
              "      box-shadow: 0px 1px 2px rgba(60, 64, 67, 0.3), 0px 1px 3px 1px rgba(60, 64, 67, 0.15);\n",
              "      fill: #174EA6;\n",
              "    }\n",
              "\n",
              "    .colab-df-buttons div {\n",
              "      margin-bottom: 4px;\n",
              "    }\n",
              "\n",
              "    [theme=dark] .colab-df-convert {\n",
              "      background-color: #3B4455;\n",
              "      fill: #D2E3FC;\n",
              "    }\n",
              "\n",
              "    [theme=dark] .colab-df-convert:hover {\n",
              "      background-color: #434B5C;\n",
              "      box-shadow: 0px 1px 3px 1px rgba(0, 0, 0, 0.15);\n",
              "      filter: drop-shadow(0px 1px 2px rgba(0, 0, 0, 0.3));\n",
              "      fill: #FFFFFF;\n",
              "    }\n",
              "  </style>\n",
              "\n",
              "    <script>\n",
              "      const buttonEl =\n",
              "        document.querySelector('#df-9e5f8d38-cacd-4d64-8973-2b3b6644b3ad button.colab-df-convert');\n",
              "      buttonEl.style.display =\n",
              "        google.colab.kernel.accessAllowed ? 'block' : 'none';\n",
              "\n",
              "      async function convertToInteractive(key) {\n",
              "        const element = document.querySelector('#df-9e5f8d38-cacd-4d64-8973-2b3b6644b3ad');\n",
              "        const dataTable =\n",
              "          await google.colab.kernel.invokeFunction('convertToInteractive',\n",
              "                                                    [key], {});\n",
              "        if (!dataTable) return;\n",
              "\n",
              "        const docLinkHtml = 'Like what you see? Visit the ' +\n",
              "          '<a target=\"_blank\" href=https://colab.research.google.com/notebooks/data_table.ipynb>data table notebook</a>'\n",
              "          + ' to learn more about interactive tables.';\n",
              "        element.innerHTML = '';\n",
              "        dataTable['output_type'] = 'display_data';\n",
              "        await google.colab.output.renderOutput(dataTable, element);\n",
              "        const docLink = document.createElement('div');\n",
              "        docLink.innerHTML = docLinkHtml;\n",
              "        element.appendChild(docLink);\n",
              "      }\n",
              "    </script>\n",
              "  </div>\n",
              "\n",
              "\n",
              "    <div id=\"df-eb0ab79c-852d-4cae-8804-eb56ba3fb9c6\">\n",
              "      <button class=\"colab-df-quickchart\" onclick=\"quickchart('df-eb0ab79c-852d-4cae-8804-eb56ba3fb9c6')\"\n",
              "                title=\"Suggest charts\"\n",
              "                style=\"display:none;\">\n",
              "\n",
              "<svg xmlns=\"http://www.w3.org/2000/svg\" height=\"24px\"viewBox=\"0 0 24 24\"\n",
              "     width=\"24px\">\n",
              "    <g>\n",
              "        <path d=\"M19 3H5c-1.1 0-2 .9-2 2v14c0 1.1.9 2 2 2h14c1.1 0 2-.9 2-2V5c0-1.1-.9-2-2-2zM9 17H7v-7h2v7zm4 0h-2V7h2v10zm4 0h-2v-4h2v4z\"/>\n",
              "    </g>\n",
              "</svg>\n",
              "      </button>\n",
              "\n",
              "<style>\n",
              "  .colab-df-quickchart {\n",
              "      --bg-color: #E8F0FE;\n",
              "      --fill-color: #1967D2;\n",
              "      --hover-bg-color: #E2EBFA;\n",
              "      --hover-fill-color: #174EA6;\n",
              "      --disabled-fill-color: #AAA;\n",
              "      --disabled-bg-color: #DDD;\n",
              "  }\n",
              "\n",
              "  [theme=dark] .colab-df-quickchart {\n",
              "      --bg-color: #3B4455;\n",
              "      --fill-color: #D2E3FC;\n",
              "      --hover-bg-color: #434B5C;\n",
              "      --hover-fill-color: #FFFFFF;\n",
              "      --disabled-bg-color: #3B4455;\n",
              "      --disabled-fill-color: #666;\n",
              "  }\n",
              "\n",
              "  .colab-df-quickchart {\n",
              "    background-color: var(--bg-color);\n",
              "    border: none;\n",
              "    border-radius: 50%;\n",
              "    cursor: pointer;\n",
              "    display: none;\n",
              "    fill: var(--fill-color);\n",
              "    height: 32px;\n",
              "    padding: 0;\n",
              "    width: 32px;\n",
              "  }\n",
              "\n",
              "  .colab-df-quickchart:hover {\n",
              "    background-color: var(--hover-bg-color);\n",
              "    box-shadow: 0 1px 2px rgba(60, 64, 67, 0.3), 0 1px 3px 1px rgba(60, 64, 67, 0.15);\n",
              "    fill: var(--button-hover-fill-color);\n",
              "  }\n",
              "\n",
              "  .colab-df-quickchart-complete:disabled,\n",
              "  .colab-df-quickchart-complete:disabled:hover {\n",
              "    background-color: var(--disabled-bg-color);\n",
              "    fill: var(--disabled-fill-color);\n",
              "    box-shadow: none;\n",
              "  }\n",
              "\n",
              "  .colab-df-spinner {\n",
              "    border: 2px solid var(--fill-color);\n",
              "    border-color: transparent;\n",
              "    border-bottom-color: var(--fill-color);\n",
              "    animation:\n",
              "      spin 1s steps(1) infinite;\n",
              "  }\n",
              "\n",
              "  @keyframes spin {\n",
              "    0% {\n",
              "      border-color: transparent;\n",
              "      border-bottom-color: var(--fill-color);\n",
              "      border-left-color: var(--fill-color);\n",
              "    }\n",
              "    20% {\n",
              "      border-color: transparent;\n",
              "      border-left-color: var(--fill-color);\n",
              "      border-top-color: var(--fill-color);\n",
              "    }\n",
              "    30% {\n",
              "      border-color: transparent;\n",
              "      border-left-color: var(--fill-color);\n",
              "      border-top-color: var(--fill-color);\n",
              "      border-right-color: var(--fill-color);\n",
              "    }\n",
              "    40% {\n",
              "      border-color: transparent;\n",
              "      border-right-color: var(--fill-color);\n",
              "      border-top-color: var(--fill-color);\n",
              "    }\n",
              "    60% {\n",
              "      border-color: transparent;\n",
              "      border-right-color: var(--fill-color);\n",
              "    }\n",
              "    80% {\n",
              "      border-color: transparent;\n",
              "      border-right-color: var(--fill-color);\n",
              "      border-bottom-color: var(--fill-color);\n",
              "    }\n",
              "    90% {\n",
              "      border-color: transparent;\n",
              "      border-bottom-color: var(--fill-color);\n",
              "    }\n",
              "  }\n",
              "</style>\n",
              "\n",
              "      <script>\n",
              "        async function quickchart(key) {\n",
              "          const quickchartButtonEl =\n",
              "            document.querySelector('#' + key + ' button');\n",
              "          quickchartButtonEl.disabled = true;  // To prevent multiple clicks.\n",
              "          quickchartButtonEl.classList.add('colab-df-spinner');\n",
              "          try {\n",
              "            const charts = await google.colab.kernel.invokeFunction(\n",
              "                'suggestCharts', [key], {});\n",
              "          } catch (error) {\n",
              "            console.error('Error during call to suggestCharts:', error);\n",
              "          }\n",
              "          quickchartButtonEl.classList.remove('colab-df-spinner');\n",
              "          quickchartButtonEl.classList.add('colab-df-quickchart-complete');\n",
              "        }\n",
              "        (() => {\n",
              "          let quickchartButtonEl =\n",
              "            document.querySelector('#df-eb0ab79c-852d-4cae-8804-eb56ba3fb9c6 button');\n",
              "          quickchartButtonEl.style.display =\n",
              "            google.colab.kernel.accessAllowed ? 'block' : 'none';\n",
              "        })();\n",
              "      </script>\n",
              "    </div>\n",
              "\n",
              "    </div>\n",
              "  </div>\n"
            ],
            "application/vnd.google.colaboratory.intrinsic+json": {
              "type": "dataframe",
              "summary": "{\n  \"name\": \"print(\\\"\\\\nDTypes 2:\\\\n\\\", d2\",\n  \"rows\": 5,\n  \"fields\": [\n    {\n      \"column\": \"start_time\",\n      \"properties\": {\n        \"dtype\": \"object\",\n        \"num_unique_values\": 4,\n        \"samples\": [\n          \"30/12/2017 19:51\",\n          \"30/12/2017 19:54\",\n          \"30/12/2017 18:37\"\n        ],\n        \"semantic_type\": \"\",\n        \"description\": \"\"\n      }\n    },\n    {\n      \"column\": \"bat_landing_to_food\",\n      \"properties\": {\n        \"dtype\": \"number\",\n        \"std\": 6.904203462268293,\n        \"min\": 0.074015603,\n        \"max\": 16.0,\n        \"num_unique_values\": 5,\n        \"samples\": [\n          0.074015603,\n          15.0,\n          4.0\n        ],\n        \"semantic_type\": \"\",\n        \"description\": \"\"\n      }\n    },\n    {\n      \"column\": \"habit\",\n      \"properties\": {\n        \"dtype\": \"category\",\n        \"num_unique_values\": 2,\n        \"samples\": [\n          \"fast\",\n          \"rat\"\n        ],\n        \"semantic_type\": \"\",\n        \"description\": \"\"\n      }\n    },\n    {\n      \"column\": \"rat_period_start\",\n      \"properties\": {\n        \"dtype\": \"object\",\n        \"num_unique_values\": 2,\n        \"samples\": [\n          \"30/12/2017 19:50\",\n          \"30/12/2017 18:35\"\n        ],\n        \"semantic_type\": \"\",\n        \"description\": \"\"\n      }\n    },\n    {\n      \"column\": \"rat_period_end\",\n      \"properties\": {\n        \"dtype\": \"object\",\n        \"num_unique_values\": 2,\n        \"samples\": [\n          \"30/12/2017 19:55\",\n          \"30/12/2017 18:38\"\n        ],\n        \"semantic_type\": \"\",\n        \"description\": \"\"\n      }\n    },\n    {\n      \"column\": \"seconds_after_rat_arrival\",\n      \"properties\": {\n        \"dtype\": \"number\",\n        \"std\": 69,\n        \"min\": 17,\n        \"max\": 194,\n        \"num_unique_values\": 5,\n        \"samples\": [\n          17,\n          194\n        ],\n        \"semantic_type\": \"\",\n        \"description\": \"\"\n      }\n    },\n    {\n      \"column\": \"risk\",\n      \"properties\": {\n        \"dtype\": \"number\",\n        \"std\": 0,\n        \"min\": 0,\n        \"max\": 1,\n        \"num_unique_values\": 2,\n        \"samples\": [\n          0,\n          1\n        ],\n        \"semantic_type\": \"\",\n        \"description\": \"\"\n      }\n    },\n    {\n      \"column\": \"reward\",\n      \"properties\": {\n        \"dtype\": \"number\",\n        \"std\": 0,\n        \"min\": 0,\n        \"max\": 1,\n        \"num_unique_values\": 2,\n        \"samples\": [\n          1,\n          0\n        ],\n        \"semantic_type\": \"\",\n        \"description\": \"\"\n      }\n    },\n    {\n      \"column\": \"month\",\n      \"properties\": {\n        \"dtype\": \"number\",\n        \"std\": 0,\n        \"min\": 0,\n        \"max\": 0,\n        \"num_unique_values\": 1,\n        \"samples\": [\n          0\n        ],\n        \"semantic_type\": \"\",\n        \"description\": \"\"\n      }\n    },\n    {\n      \"column\": \"sunset_time\",\n      \"properties\": {\n        \"dtype\": \"object\",\n        \"num_unique_values\": 1,\n        \"samples\": [\n          \"30/12/2017 16:45\"\n        ],\n        \"semantic_type\": \"\",\n        \"description\": \"\"\n      }\n    },\n    {\n      \"column\": \"hours_after_sunset\",\n      \"properties\": {\n        \"dtype\": \"number\",\n        \"std\": 0.5595617222963792,\n        \"min\": 1.870833333,\n        \"max\": 3.15,\n        \"num_unique_values\": 5,\n        \"samples\": [\n          3.100833333\n        ],\n        \"semantic_type\": \"\",\n        \"description\": \"\"\n      }\n    },\n    {\n      \"column\": \"season\",\n      \"properties\": {\n        \"dtype\": \"number\",\n        \"std\": 0,\n        \"min\": 0,\n        \"max\": 0,\n        \"num_unique_values\": 1,\n        \"samples\": [\n          0\n        ],\n        \"semantic_type\": \"\",\n        \"description\": \"\"\n      }\n    }\n  ]\n}"
            }
          },
          "metadata": {}
        },
        {
          "output_type": "display_data",
          "data": {
            "text/plain": [
              "               time  month  hours_after_sunset  bat_landing_number  \\\n",
              "0  26/12/2017 16:13      0                -0.5                  20   \n",
              "1  26/12/2017 16:43      0                 0.0                  28   \n",
              "2  26/12/2017 17:13      0                 0.5                  25   \n",
              "3  26/12/2017 17:43      0                 1.0                  71   \n",
              "4  26/12/2017 18:13      0                 1.5                  44   \n",
              "\n",
              "   food_availability  rat_minutes  rat_arrival_number  \n",
              "0           4.000000          0.0                   0  \n",
              "1           4.000000          0.0                   0  \n",
              "2           4.000000          0.0                   0  \n",
              "3           4.000000          0.0                   0  \n",
              "4           3.753857          0.0                   0  "
            ],
            "text/html": [
              "\n",
              "  <div id=\"df-69ed4b36-38bb-45a1-95a8-845ccd1a79dc\" class=\"colab-df-container\">\n",
              "    <div>\n",
              "<style scoped>\n",
              "    .dataframe tbody tr th:only-of-type {\n",
              "        vertical-align: middle;\n",
              "    }\n",
              "\n",
              "    .dataframe tbody tr th {\n",
              "        vertical-align: top;\n",
              "    }\n",
              "\n",
              "    .dataframe thead th {\n",
              "        text-align: right;\n",
              "    }\n",
              "</style>\n",
              "<table border=\"1\" class=\"dataframe\">\n",
              "  <thead>\n",
              "    <tr style=\"text-align: right;\">\n",
              "      <th></th>\n",
              "      <th>time</th>\n",
              "      <th>month</th>\n",
              "      <th>hours_after_sunset</th>\n",
              "      <th>bat_landing_number</th>\n",
              "      <th>food_availability</th>\n",
              "      <th>rat_minutes</th>\n",
              "      <th>rat_arrival_number</th>\n",
              "    </tr>\n",
              "  </thead>\n",
              "  <tbody>\n",
              "    <tr>\n",
              "      <th>0</th>\n",
              "      <td>26/12/2017 16:13</td>\n",
              "      <td>0</td>\n",
              "      <td>-0.5</td>\n",
              "      <td>20</td>\n",
              "      <td>4.000000</td>\n",
              "      <td>0.0</td>\n",
              "      <td>0</td>\n",
              "    </tr>\n",
              "    <tr>\n",
              "      <th>1</th>\n",
              "      <td>26/12/2017 16:43</td>\n",
              "      <td>0</td>\n",
              "      <td>0.0</td>\n",
              "      <td>28</td>\n",
              "      <td>4.000000</td>\n",
              "      <td>0.0</td>\n",
              "      <td>0</td>\n",
              "    </tr>\n",
              "    <tr>\n",
              "      <th>2</th>\n",
              "      <td>26/12/2017 17:13</td>\n",
              "      <td>0</td>\n",
              "      <td>0.5</td>\n",
              "      <td>25</td>\n",
              "      <td>4.000000</td>\n",
              "      <td>0.0</td>\n",
              "      <td>0</td>\n",
              "    </tr>\n",
              "    <tr>\n",
              "      <th>3</th>\n",
              "      <td>26/12/2017 17:43</td>\n",
              "      <td>0</td>\n",
              "      <td>1.0</td>\n",
              "      <td>71</td>\n",
              "      <td>4.000000</td>\n",
              "      <td>0.0</td>\n",
              "      <td>0</td>\n",
              "    </tr>\n",
              "    <tr>\n",
              "      <th>4</th>\n",
              "      <td>26/12/2017 18:13</td>\n",
              "      <td>0</td>\n",
              "      <td>1.5</td>\n",
              "      <td>44</td>\n",
              "      <td>3.753857</td>\n",
              "      <td>0.0</td>\n",
              "      <td>0</td>\n",
              "    </tr>\n",
              "  </tbody>\n",
              "</table>\n",
              "</div>\n",
              "    <div class=\"colab-df-buttons\">\n",
              "\n",
              "  <div class=\"colab-df-container\">\n",
              "    <button class=\"colab-df-convert\" onclick=\"convertToInteractive('df-69ed4b36-38bb-45a1-95a8-845ccd1a79dc')\"\n",
              "            title=\"Convert this dataframe to an interactive table.\"\n",
              "            style=\"display:none;\">\n",
              "\n",
              "  <svg xmlns=\"http://www.w3.org/2000/svg\" height=\"24px\" viewBox=\"0 -960 960 960\">\n",
              "    <path d=\"M120-120v-720h720v720H120Zm60-500h600v-160H180v160Zm220 220h160v-160H400v160Zm0 220h160v-160H400v160ZM180-400h160v-160H180v160Zm440 0h160v-160H620v160ZM180-180h160v-160H180v160Zm440 0h160v-160H620v160Z\"/>\n",
              "  </svg>\n",
              "    </button>\n",
              "\n",
              "  <style>\n",
              "    .colab-df-container {\n",
              "      display:flex;\n",
              "      gap: 12px;\n",
              "    }\n",
              "\n",
              "    .colab-df-convert {\n",
              "      background-color: #E8F0FE;\n",
              "      border: none;\n",
              "      border-radius: 50%;\n",
              "      cursor: pointer;\n",
              "      display: none;\n",
              "      fill: #1967D2;\n",
              "      height: 32px;\n",
              "      padding: 0 0 0 0;\n",
              "      width: 32px;\n",
              "    }\n",
              "\n",
              "    .colab-df-convert:hover {\n",
              "      background-color: #E2EBFA;\n",
              "      box-shadow: 0px 1px 2px rgba(60, 64, 67, 0.3), 0px 1px 3px 1px rgba(60, 64, 67, 0.15);\n",
              "      fill: #174EA6;\n",
              "    }\n",
              "\n",
              "    .colab-df-buttons div {\n",
              "      margin-bottom: 4px;\n",
              "    }\n",
              "\n",
              "    [theme=dark] .colab-df-convert {\n",
              "      background-color: #3B4455;\n",
              "      fill: #D2E3FC;\n",
              "    }\n",
              "\n",
              "    [theme=dark] .colab-df-convert:hover {\n",
              "      background-color: #434B5C;\n",
              "      box-shadow: 0px 1px 3px 1px rgba(0, 0, 0, 0.15);\n",
              "      filter: drop-shadow(0px 1px 2px rgba(0, 0, 0, 0.3));\n",
              "      fill: #FFFFFF;\n",
              "    }\n",
              "  </style>\n",
              "\n",
              "    <script>\n",
              "      const buttonEl =\n",
              "        document.querySelector('#df-69ed4b36-38bb-45a1-95a8-845ccd1a79dc button.colab-df-convert');\n",
              "      buttonEl.style.display =\n",
              "        google.colab.kernel.accessAllowed ? 'block' : 'none';\n",
              "\n",
              "      async function convertToInteractive(key) {\n",
              "        const element = document.querySelector('#df-69ed4b36-38bb-45a1-95a8-845ccd1a79dc');\n",
              "        const dataTable =\n",
              "          await google.colab.kernel.invokeFunction('convertToInteractive',\n",
              "                                                    [key], {});\n",
              "        if (!dataTable) return;\n",
              "\n",
              "        const docLinkHtml = 'Like what you see? Visit the ' +\n",
              "          '<a target=\"_blank\" href=https://colab.research.google.com/notebooks/data_table.ipynb>data table notebook</a>'\n",
              "          + ' to learn more about interactive tables.';\n",
              "        element.innerHTML = '';\n",
              "        dataTable['output_type'] = 'display_data';\n",
              "        await google.colab.output.renderOutput(dataTable, element);\n",
              "        const docLink = document.createElement('div');\n",
              "        docLink.innerHTML = docLinkHtml;\n",
              "        element.appendChild(docLink);\n",
              "      }\n",
              "    </script>\n",
              "  </div>\n",
              "\n",
              "\n",
              "    <div id=\"df-7d329e9c-29d2-483d-871e-af56ad44b48d\">\n",
              "      <button class=\"colab-df-quickchart\" onclick=\"quickchart('df-7d329e9c-29d2-483d-871e-af56ad44b48d')\"\n",
              "                title=\"Suggest charts\"\n",
              "                style=\"display:none;\">\n",
              "\n",
              "<svg xmlns=\"http://www.w3.org/2000/svg\" height=\"24px\"viewBox=\"0 0 24 24\"\n",
              "     width=\"24px\">\n",
              "    <g>\n",
              "        <path d=\"M19 3H5c-1.1 0-2 .9-2 2v14c0 1.1.9 2 2 2h14c1.1 0 2-.9 2-2V5c0-1.1-.9-2-2-2zM9 17H7v-7h2v7zm4 0h-2V7h2v10zm4 0h-2v-4h2v4z\"/>\n",
              "    </g>\n",
              "</svg>\n",
              "      </button>\n",
              "\n",
              "<style>\n",
              "  .colab-df-quickchart {\n",
              "      --bg-color: #E8F0FE;\n",
              "      --fill-color: #1967D2;\n",
              "      --hover-bg-color: #E2EBFA;\n",
              "      --hover-fill-color: #174EA6;\n",
              "      --disabled-fill-color: #AAA;\n",
              "      --disabled-bg-color: #DDD;\n",
              "  }\n",
              "\n",
              "  [theme=dark] .colab-df-quickchart {\n",
              "      --bg-color: #3B4455;\n",
              "      --fill-color: #D2E3FC;\n",
              "      --hover-bg-color: #434B5C;\n",
              "      --hover-fill-color: #FFFFFF;\n",
              "      --disabled-bg-color: #3B4455;\n",
              "      --disabled-fill-color: #666;\n",
              "  }\n",
              "\n",
              "  .colab-df-quickchart {\n",
              "    background-color: var(--bg-color);\n",
              "    border: none;\n",
              "    border-radius: 50%;\n",
              "    cursor: pointer;\n",
              "    display: none;\n",
              "    fill: var(--fill-color);\n",
              "    height: 32px;\n",
              "    padding: 0;\n",
              "    width: 32px;\n",
              "  }\n",
              "\n",
              "  .colab-df-quickchart:hover {\n",
              "    background-color: var(--hover-bg-color);\n",
              "    box-shadow: 0 1px 2px rgba(60, 64, 67, 0.3), 0 1px 3px 1px rgba(60, 64, 67, 0.15);\n",
              "    fill: var(--button-hover-fill-color);\n",
              "  }\n",
              "\n",
              "  .colab-df-quickchart-complete:disabled,\n",
              "  .colab-df-quickchart-complete:disabled:hover {\n",
              "    background-color: var(--disabled-bg-color);\n",
              "    fill: var(--disabled-fill-color);\n",
              "    box-shadow: none;\n",
              "  }\n",
              "\n",
              "  .colab-df-spinner {\n",
              "    border: 2px solid var(--fill-color);\n",
              "    border-color: transparent;\n",
              "    border-bottom-color: var(--fill-color);\n",
              "    animation:\n",
              "      spin 1s steps(1) infinite;\n",
              "  }\n",
              "\n",
              "  @keyframes spin {\n",
              "    0% {\n",
              "      border-color: transparent;\n",
              "      border-bottom-color: var(--fill-color);\n",
              "      border-left-color: var(--fill-color);\n",
              "    }\n",
              "    20% {\n",
              "      border-color: transparent;\n",
              "      border-left-color: var(--fill-color);\n",
              "      border-top-color: var(--fill-color);\n",
              "    }\n",
              "    30% {\n",
              "      border-color: transparent;\n",
              "      border-left-color: var(--fill-color);\n",
              "      border-top-color: var(--fill-color);\n",
              "      border-right-color: var(--fill-color);\n",
              "    }\n",
              "    40% {\n",
              "      border-color: transparent;\n",
              "      border-right-color: var(--fill-color);\n",
              "      border-top-color: var(--fill-color);\n",
              "    }\n",
              "    60% {\n",
              "      border-color: transparent;\n",
              "      border-right-color: var(--fill-color);\n",
              "    }\n",
              "    80% {\n",
              "      border-color: transparent;\n",
              "      border-right-color: var(--fill-color);\n",
              "      border-bottom-color: var(--fill-color);\n",
              "    }\n",
              "    90% {\n",
              "      border-color: transparent;\n",
              "      border-bottom-color: var(--fill-color);\n",
              "    }\n",
              "  }\n",
              "</style>\n",
              "\n",
              "      <script>\n",
              "        async function quickchart(key) {\n",
              "          const quickchartButtonEl =\n",
              "            document.querySelector('#' + key + ' button');\n",
              "          quickchartButtonEl.disabled = true;  // To prevent multiple clicks.\n",
              "          quickchartButtonEl.classList.add('colab-df-spinner');\n",
              "          try {\n",
              "            const charts = await google.colab.kernel.invokeFunction(\n",
              "                'suggestCharts', [key], {});\n",
              "          } catch (error) {\n",
              "            console.error('Error during call to suggestCharts:', error);\n",
              "          }\n",
              "          quickchartButtonEl.classList.remove('colab-df-spinner');\n",
              "          quickchartButtonEl.classList.add('colab-df-quickchart-complete');\n",
              "        }\n",
              "        (() => {\n",
              "          let quickchartButtonEl =\n",
              "            document.querySelector('#df-7d329e9c-29d2-483d-871e-af56ad44b48d button');\n",
              "          quickchartButtonEl.style.display =\n",
              "            google.colab.kernel.accessAllowed ? 'block' : 'none';\n",
              "        })();\n",
              "      </script>\n",
              "    </div>\n",
              "\n",
              "    </div>\n",
              "  </div>\n"
            ],
            "application/vnd.google.colaboratory.intrinsic+json": {
              "type": "dataframe",
              "summary": "{\n  \"name\": \"print(\\\"\\\\nDTypes 2:\\\\n\\\", d2\",\n  \"rows\": 5,\n  \"fields\": [\n    {\n      \"column\": \"time\",\n      \"properties\": {\n        \"dtype\": \"object\",\n        \"num_unique_values\": 5,\n        \"samples\": [\n          \"26/12/2017 16:43\",\n          \"26/12/2017 18:13\",\n          \"26/12/2017 17:13\"\n        ],\n        \"semantic_type\": \"\",\n        \"description\": \"\"\n      }\n    },\n    {\n      \"column\": \"month\",\n      \"properties\": {\n        \"dtype\": \"number\",\n        \"std\": 0,\n        \"min\": 0,\n        \"max\": 0,\n        \"num_unique_values\": 1,\n        \"samples\": [\n          0\n        ],\n        \"semantic_type\": \"\",\n        \"description\": \"\"\n      }\n    },\n    {\n      \"column\": \"hours_after_sunset\",\n      \"properties\": {\n        \"dtype\": \"number\",\n        \"std\": 0.7905694150420949,\n        \"min\": -0.5,\n        \"max\": 1.5,\n        \"num_unique_values\": 5,\n        \"samples\": [\n          0.0\n        ],\n        \"semantic_type\": \"\",\n        \"description\": \"\"\n      }\n    },\n    {\n      \"column\": \"bat_landing_number\",\n      \"properties\": {\n        \"dtype\": \"number\",\n        \"std\": 20,\n        \"min\": 20,\n        \"max\": 71,\n        \"num_unique_values\": 5,\n        \"samples\": [\n          28\n        ],\n        \"semantic_type\": \"\",\n        \"description\": \"\"\n      }\n    },\n    {\n      \"column\": \"food_availability\",\n      \"properties\": {\n        \"dtype\": \"number\",\n        \"std\": 0.11007852197553464,\n        \"min\": 3.753856942,\n        \"max\": 4.0,\n        \"num_unique_values\": 2,\n        \"samples\": [\n          3.753856942\n        ],\n        \"semantic_type\": \"\",\n        \"description\": \"\"\n      }\n    },\n    {\n      \"column\": \"rat_minutes\",\n      \"properties\": {\n        \"dtype\": \"number\",\n        \"std\": 0.0,\n        \"min\": 0.0,\n        \"max\": 0.0,\n        \"num_unique_values\": 1,\n        \"samples\": [\n          0.0\n        ],\n        \"semantic_type\": \"\",\n        \"description\": \"\"\n      }\n    },\n    {\n      \"column\": \"rat_arrival_number\",\n      \"properties\": {\n        \"dtype\": \"number\",\n        \"std\": 0,\n        \"min\": 0,\n        \"max\": 0,\n        \"num_unique_values\": 1,\n        \"samples\": [\n          0\n        ],\n        \"semantic_type\": \"\",\n        \"description\": \"\"\n      }\n    }\n  ]\n}"
            }
          },
          "metadata": {}
        },
        {
          "output_type": "stream",
          "name": "stdout",
          "text": [
            "\n",
            "DTypes 1:\n",
            " start_time                    object\n",
            "bat_landing_to_food          float64\n",
            "habit                         object\n",
            "rat_period_start              object\n",
            "rat_period_end                object\n",
            "seconds_after_rat_arrival      int64\n",
            "risk                           int64\n",
            "reward                         int64\n",
            "month                          int64\n",
            "sunset_time                   object\n",
            "hours_after_sunset           float64\n",
            "season                         int64\n",
            "dtype: object\n",
            "\n",
            "DTypes 2:\n",
            " time                   object\n",
            "month                   int64\n",
            "hours_after_sunset    float64\n",
            "bat_landing_number      int64\n",
            "food_availability     float64\n",
            "rat_minutes           float64\n",
            "rat_arrival_number      int64\n",
            "dtype: object\n"
          ]
        }
      ],
      "source": [
        "\n",
        "d1 = pd.read_csv(DATASET1_PATH)\n",
        "d2 = pd.read_csv(DATASET2_PATH)\n",
        "\n",
        "print(\"dataset1 shape:\", d1.shape)\n",
        "print(\"dataset2 shape:\", d2.shape)\n",
        "\n",
        "display(d1.head())\n",
        "display(d2.head())\n",
        "\n",
        "print(\"\\nDTypes 1:\\n\", d1.dtypes)\n",
        "print(\"\\nDTypes 2:\\n\", d2.dtypes)\n"
      ]
    },
    {
      "cell_type": "markdown",
      "id": "b88d1622",
      "metadata": {
        "id": "b88d1622"
      },
      "source": [
        "> Interpretation: Confirm files loaded, shapes make sense, columns match brief."
      ]
    },
    {
      "cell_type": "markdown",
      "id": "3f3745f9",
      "metadata": {
        "id": "3f3745f9"
      },
      "source": [
        "## 3) Clean Data"
      ]
    },
    {
      "cell_type": "code",
      "execution_count": 5,
      "id": "6cea624d",
      "metadata": {
        "colab": {
          "base_uri": "https://localhost:8080/"
        },
        "id": "6cea624d",
        "outputId": "e7f61909-206b-4c1c-d852-1e903c2c1004"
      },
      "outputs": [
        {
          "output_type": "stream",
          "name": "stdout",
          "text": [
            "NA report dataset1:\n",
            " habit                        41\n",
            "start_time                    0\n",
            "bat_landing_to_food           0\n",
            "rat_period_start              0\n",
            "rat_period_end                0\n",
            "seconds_after_rat_arrival     0\n",
            "risk                          0\n",
            "reward                        0\n",
            "month                         0\n",
            "sunset_time                   0\n",
            "hours_after_sunset            0\n",
            "season                        0\n",
            "dtype: int64\n",
            "\n",
            "NA report dataset2:\n",
            " time                  0\n",
            "month                 0\n",
            "hours_after_sunset    0\n",
            "bat_landing_number    0\n",
            "food_availability     0\n",
            "rat_minutes           0\n",
            "rat_arrival_number    0\n",
            "season                0\n",
            "dtype: int64\n",
            "\n",
            "Post-imputation complete.\n"
          ]
        }
      ],
      "source": [
        "# Parse datetimes in dataset1 if present\n",
        "for col in [\"start_time\", \"rat_period_start\", \"rat_period_end\", \"sunset_time\"]:\n",
        "    if col in d1.columns:\n",
        "        d1[col] = pd.to_datetime(d1[col], errors=\"coerce\", dayfirst=True)\n",
        "\n",
        "# Parse time in dataset2\n",
        "if \"time\" in d2.columns:\n",
        "    d2[\"time\"] = pd.to_datetime(d2[\"time\"], errors=\"coerce\", dayfirst=True)\n",
        "\n",
        "# Standardize/derive season in dataset2 if missing\n",
        "if \"season\" not in d2.columns or d2[\"season\"].isna().all():\n",
        "    month_to_season = {\n",
        "        6: \"winter\", 7: \"winter\", 8: \"winter\",\n",
        "        9: \"spring\", 10: \"spring\", 0: \"winter\", # Assuming month 0 is December based on d1 head\n",
        "        1: \"winter\", 2: \"spring\", 3: \"spring\", 4: \"spring\", 5: \"spring\" # Add missing months based on d1 head\n",
        "    }\n",
        "    if \"month\" in d2.columns:\n",
        "        d2[\"season\"] = d2[\"month\"].map(month_to_season)\n",
        "\n",
        "\n",
        "# Categorical coercion\n",
        "for col in [\"season\", \"habit\"]:\n",
        "    if col in d1.columns:\n",
        "        d1[col] = d1[col].astype(\"category\")\n",
        "    if col in d2.columns:\n",
        "        d2[col] = d2[col].astype(\"category\")\n",
        "\n",
        "# NA report\n",
        "print(\"NA report dataset1:\\n\", d1.isna().sum().sort_values(ascending=False).head(20))\n",
        "print(\"\\nNA report dataset2:\\n\", d2.isna().sum().sort_values(ascending=False).head(20))\n",
        "\n",
        "# Simple numeric median imputation to unblock models\n",
        "def impute_numeric(df):\n",
        "    for c in df.select_dtypes(include=[np.number]).columns:\n",
        "        if df[c].isna().any():\n",
        "            df[c] = df[c].fillna(df[c].median())\n",
        "    return df\n",
        "\n",
        "d1 = impute_numeric(d1)\n",
        "d2 = impute_numeric(d2)\n",
        "print(\"\\nPost-imputation complete.\")"
      ]
    },
    {
      "cell_type": "markdown",
      "id": "75b3d48d",
      "metadata": {
        "id": "75b3d48d"
      },
      "source": [
        "> Interpretation: Note any heavy missingness and justify imputation strategy."
      ]
    },
    {
      "cell_type": "markdown",
      "id": "acc45001",
      "metadata": {
        "id": "acc45001"
      },
      "source": [
        "## 4) Exploratory Data Analysis"
      ]
    },
    {
      "cell_type": "code",
      "execution_count": 6,
      "id": "18e25ec5",
      "metadata": {
        "colab": {
          "base_uri": "https://localhost:8080/"
        },
        "id": "18e25ec5",
        "outputId": "5cb97420-a5c7-4353-b48c-f3f0a251c738"
      },
      "outputs": [
        {
          "output_type": "stream",
          "name": "stdout",
          "text": [
            "Saved: /content/outputs/d1_risk_distribution.png\n",
            "Saved: /content/outputs/d1_reward_distribution.png\n",
            "            mean  count\n",
            "season                 \n",
            "0       0.562914    151\n",
            "1       0.481481    756\n"
          ]
        },
        {
          "output_type": "stream",
          "name": "stderr",
          "text": [
            "/tmp/ipython-input-3304134030.py:23: FutureWarning: The default of observed=False is deprecated and will be changed to True in a future version of pandas. Pass observed=False to retain current behavior or observed=True to adopt the future default and silence this warning.\n",
            "  print(d1.groupby(\"season\")[\"risk\"].agg(['mean','count']))\n",
            "/tmp/ipython-input-3304134030.py:25: FutureWarning: The default of observed=False is deprecated and will be changed to True in a future version of pandas. Pass observed=False to retain current behavior or observed=True to adopt the future default and silence this warning.\n",
            "  d1.groupby(\"season\")[\"risk\"].mean().plot(kind=\"bar\")\n",
            "/tmp/ipython-input-3304134030.py:33: FutureWarning: The default of observed=False is deprecated and will be changed to True in a future version of pandas. Pass observed=False to retain current behavior or observed=True to adopt the future default and silence this warning.\n",
            "  print(d2.groupby(\"season\")[\"rat_arrival_number\"].agg(['mean','median','std','count']))\n",
            "/tmp/ipython-input-3304134030.py:35: FutureWarning: The default of observed=False is deprecated and will be changed to True in a future version of pandas. Pass observed=False to retain current behavior or observed=True to adopt the future default and silence this warning.\n",
            "  d2.groupby(\"season\")[\"rat_arrival_number\"].mean().plot(kind=\"bar\")\n"
          ]
        },
        {
          "output_type": "stream",
          "name": "stdout",
          "text": [
            "Saved: /content/outputs/d1_mean_risk_by_season.png\n",
            "            mean  median       std  count\n",
            "season                                   \n",
            "spring  0.535287     0.0  1.118882   1672\n",
            "winter  0.108647     0.0  0.325495    451\n",
            "Saved: /content/outputs/d2_mean_rat_arrivals_by_season.png\n",
            "Saved: /content/outputs/d2_scatter_bat_vs_rat.png\n"
          ]
        }
      ],
      "source": [
        "\n",
        "# Risk distribution\n",
        "if \"risk\" in d1.columns:\n",
        "    counts = d1[\"risk\"].value_counts().sort_index()\n",
        "    plt.figure()\n",
        "    counts.plot(kind=\"bar\")\n",
        "    plt.title(\"Bat risk behaviour (0=avoidance, 1=risk-taking)\")\n",
        "    plt.xlabel(\"risk\")\n",
        "    plt.ylabel(\"count\")\n",
        "    save_current_plot(\"d1_risk_distribution\")\n",
        "\n",
        "# Reward distribution\n",
        "if \"reward\" in d1.columns:\n",
        "    counts = d1[\"reward\"].value_counts().sort_index()\n",
        "    plt.figure()\n",
        "    counts.plot(kind=\"bar\")\n",
        "    plt.title(\"Bat reward outcome (0=no, 1=yes)\")\n",
        "    plt.xlabel(\"reward\")\n",
        "    plt.ylabel(\"count\")\n",
        "    save_current_plot(\"d1_reward_distribution\")\n",
        "\n",
        "# Risk by season\n",
        "if {\"risk\",\"season\"}.issubset(d1.columns):\n",
        "    print(d1.groupby(\"season\")[\"risk\"].agg(['mean','count']))\n",
        "    plt.figure()\n",
        "    d1.groupby(\"season\")[\"risk\"].mean().plot(kind=\"bar\")\n",
        "    plt.title(\"Mean risk-taking by season\")\n",
        "    plt.xlabel(\"season\")\n",
        "    plt.ylabel(\"mean risk\")\n",
        "    save_current_plot(\"d1_mean_risk_by_season\")\n",
        "\n",
        "# Rat arrivals by season\n",
        "if {\"season\",\"rat_arrival_number\"}.issubset(d2.columns):\n",
        "    print(d2.groupby(\"season\")[\"rat_arrival_number\"].agg(['mean','median','std','count']))\n",
        "    plt.figure()\n",
        "    d2.groupby(\"season\")[\"rat_arrival_number\"].mean().plot(kind=\"bar\")\n",
        "    plt.title(\"Mean rat arrivals by season\")\n",
        "    plt.xlabel(\"season\")\n",
        "    plt.ylabel(\"mean rat_arrival_number\")\n",
        "    save_current_plot(\"d2_mean_rat_arrivals_by_season\")\n",
        "\n",
        "# Bat landings vs rat arrivals\n",
        "if {\"rat_arrival_number\",\"bat_landing_number\"}.issubset(d2.columns):\n",
        "    plt.figure()\n",
        "    plt.scatter(d2[\"rat_arrival_number\"], d2[\"bat_landing_number\"])\n",
        "    plt.title(\"Bat landings vs Rat arrivals (30-min windows)\")\n",
        "    plt.xlabel(\"rat_arrival_number\")\n",
        "    plt.ylabel(\"bat_landing_number\")\n",
        "    save_current_plot(\"d2_scatter_bat_vs_rat\")\n"
      ]
    },
    {
      "cell_type": "markdown",
      "id": "d991af71",
      "metadata": {
        "id": "d991af71"
      },
      "source": [
        "> Interpretation: Describe patterns. Any season with higher rat arrivals or risk-taking?"
      ]
    },
    {
      "cell_type": "markdown",
      "id": "a6ccc8f8",
      "metadata": {
        "id": "a6ccc8f8"
      },
      "source": [
        "## 5) Investigation A — Predation Risk Hypothesis"
      ]
    },
    {
      "cell_type": "code",
      "execution_count": 7,
      "id": "53b942a9",
      "metadata": {
        "colab": {
          "base_uri": "https://localhost:8080/"
        },
        "id": "53b942a9",
        "outputId": "6ac9910d-6a7f-493e-e27a-e44124329952"
      },
      "outputs": [
        {
          "output_type": "stream",
          "name": "stderr",
          "text": [
            "/usr/local/lib/python3.12/dist-packages/statsmodels/discrete/discrete_model.py:2385: RuntimeWarning: overflow encountered in exp\n",
            "  return 1/(1+np.exp(-X))\n"
          ]
        },
        {
          "output_type": "stream",
          "name": "stdout",
          "text": [
            "Investigation A model failed: Singular matrix\n",
            "Contingency table (arrival_bin vs risk):\n",
            " risk           0    1\n",
            "arrival_bin          \n",
            "early        232  222\n",
            "late         226  227\n",
            "chi2=0.089, p=0.7653, dof=1\n"
          ]
        },
        {
          "output_type": "stream",
          "name": "stderr",
          "text": [
            "/usr/local/lib/python3.12/dist-packages/statsmodels/discrete/discrete_model.py:2443: RuntimeWarning: divide by zero encountered in log\n",
            "  return np.sum(np.log(self.cdf(q * linpred)))\n"
          ]
        }
      ],
      "source": [
        "\n",
        "invA_model_summary = None\n",
        "if \"risk\" in d1.columns:\n",
        "    d1[\"risk\"] = d1[\"risk\"].astype(int)\n",
        "\n",
        "    predictors = []\n",
        "    if \"seconds_after_rat_arrival\" in d1.columns:\n",
        "        predictors.append(\"seconds_after_rat_arrival\")\n",
        "    if \"hours_after_sunset\" in d1.columns:\n",
        "        predictors.append(\"hours_after_sunset\")\n",
        "    if \"habit\" in d1.columns: predictors.append(\"C(habit)\")\n",
        "    if \"month\" in d1.columns: predictors.append(\"C(month)\")\n",
        "\n",
        "    if predictors:\n",
        "        formula = \"risk ~ \" + \" + \".join(predictors)\n",
        "        try:\n",
        "            modelA = smf.logit(formula=formula, data=d1.dropna()).fit(disp=False)\n",
        "            invA_model_summary = modelA.summary2().as_text()\n",
        "            print(invA_model_summary)\n",
        "\n",
        "            # Predicted probability vs seconds_after_rat_arrival\n",
        "            if \"seconds_after_rat_arrival\" in d1.columns:\n",
        "                x = np.linspace(d1[\"seconds_after_rat_arrival\"].min(), d1[\"seconds_after_rat_arrival\"].max(), 100)\n",
        "                base = {}\n",
        "                if \"hours_after_sunset\" in d1.columns:\n",
        "                    base[\"hours_after_sunset\"] = np.full_like(x, d1[\"hours_after_sunset\"].median(), dtype=float)\n",
        "                if \"habit\" in d1.columns:\n",
        "                    base[\"habit\"] = pd.Categorical([d1[\"habit\"].mode().iloc[0]]*len(x), categories=d1[\"habit\"].cat.categories)\n",
        "                if \"month\" in d1.columns:\n",
        "                    base[\"month\"] = pd.Categorical([d1[\"month\"].mode().iloc[0]]*len(x), categories=d1[\"month\"].cat.categories)\n",
        "                dfp = pd.DataFrame({\"seconds_after_rat_arrival\": x, **base})\n",
        "                dfp[\"pred\"] = modelA.predict(dfp)\n",
        "                plt.figure()\n",
        "                plt.plot(x, dfp[\"pred\"])\n",
        "                plt.title(\"Predicted P(risk-taking) vs seconds_after_rat_arrival\")\n",
        "                plt.xlabel(\"seconds_after_rat_arrival\")\n",
        "                plt.ylabel(\"Predicted probability of risk=1\")\n",
        "                save_current_plot(\"invA_pred_prob_seconds_after_rat_arrival\")\n",
        "        except Exception as e:\n",
        "            print(\"Investigation A model failed:\", e)\n",
        "\n",
        "# Chi-square on binned arrival timing\n",
        "if {\"risk\",\"seconds_after_rat_arrival\"}.issubset(d1.columns):\n",
        "    try:\n",
        "        cutoff = d1[\"seconds_after_rat_arrival\"].median()\n",
        "        d1[\"arrival_bin\"] = np.where(d1[\"seconds_after_rat_arrival\"] <= cutoff, \"early\", \"late\")\n",
        "        ct = pd.crosstab(d1[\"arrival_bin\"], d1[\"risk\"])\n",
        "        chi2, p, dof, exp = stats.chi2_contingency(ct)\n",
        "        print(\"Contingency table (arrival_bin vs risk):\\n\", ct)\n",
        "        print(f\"chi2={chi2:.3f}, p={p:.4f}, dof={dof}\")\n",
        "    except Exception as e:\n",
        "        print(\"Chi-square failed:\", e)\n"
      ]
    },
    {
      "cell_type": "markdown",
      "id": "02e7f15a",
      "metadata": {
        "id": "02e7f15a"
      },
      "source": [
        "> Interpretation: State whether coefficients suggest more avoidance when rats are proximate. Reference p-values."
      ]
    },
    {
      "cell_type": "markdown",
      "id": "e94b9aec",
      "metadata": {
        "id": "e94b9aec"
      },
      "source": [
        "## 6) Investigation B — Seasonal Changes"
      ]
    },
    {
      "cell_type": "code",
      "execution_count": 8,
      "id": "35a05e36",
      "metadata": {
        "colab": {
          "base_uri": "https://localhost:8080/"
        },
        "id": "35a05e36",
        "outputId": "39eab9b9-1d05-4c44-c1e1-44a926babb62"
      },
      "outputs": [
        {
          "output_type": "stream",
          "name": "stderr",
          "text": [
            "/tmp/ipython-input-1234276474.py:3: FutureWarning: The default of observed=False is deprecated and will be changed to True in a future version of pandas. Pass observed=False to retain current behavior or observed=True to adopt the future default and silence this warning.\n",
            "  season_risk_share = d1.groupby(\"season\")[\"risk\"].mean()\n",
            "/tmp/ipython-input-1234276474.py:26: FutureWarning: The default of observed=False is deprecated and will be changed to True in a future version of pandas. Pass observed=False to retain current behavior or observed=True to adopt the future default and silence this warning.\n",
            "  print(f\"\\n{col} by season:\\n\", d2.groupby(\"season\")[col].agg([\"mean\",\"median\",\"std\",\"count\"]))\n",
            "/tmp/ipython-input-1234276474.py:28: FutureWarning: The default of observed=False is deprecated and will be changed to True in a future version of pandas. Pass observed=False to retain current behavior or observed=True to adopt the future default and silence this warning.\n",
            "  d2.groupby(\"season\")[col].mean().plot(kind=\"bar\")\n",
            "/tmp/ipython-input-1234276474.py:26: FutureWarning: The default of observed=False is deprecated and will be changed to True in a future version of pandas. Pass observed=False to retain current behavior or observed=True to adopt the future default and silence this warning.\n",
            "  print(f\"\\n{col} by season:\\n\", d2.groupby(\"season\")[col].agg([\"mean\",\"median\",\"std\",\"count\"]))\n",
            "/tmp/ipython-input-1234276474.py:28: FutureWarning: The default of observed=False is deprecated and will be changed to True in a future version of pandas. Pass observed=False to retain current behavior or observed=True to adopt the future default and silence this warning.\n",
            "  d2.groupby(\"season\")[col].mean().plot(kind=\"bar\")\n"
          ]
        },
        {
          "output_type": "stream",
          "name": "stdout",
          "text": [
            "Mean risk-taking by season:\n",
            " season\n",
            "0    0.562914\n",
            "1    0.481481\n",
            "Name: risk, dtype: float64\n",
            "T-test 0 vs 1 (risk mean): t=1.834, p=0.0680\n",
            "\n",
            "rat_arrival_number by season:\n",
            "             mean  median       std  count\n",
            "season                                   \n",
            "spring  0.535287     0.0  1.118882   1672\n",
            "winter  0.108647     0.0  0.325495    451\n",
            "Saved: /content/outputs/d2_mean_rat_arrival_number_by_season.png\n",
            "T-test rat_arrival_number: winter vs spring -> t=-13.603, p=0.0000\n",
            "\n",
            "rat_minutes by season:\n",
            "             mean  median      std  count\n",
            "season                                  \n",
            "spring  2.420086     0.0  7.54667   1672\n",
            "winter  0.416445     0.0  1.72414    451\n",
            "Saved: /content/outputs/d2_mean_rat_minutes_by_season.png\n",
            "T-test rat_minutes: winter vs spring -> t=-9.937, p=0.0000\n",
            "\n",
            "bat_landing_number by season:\n",
            "              mean  median        std  count\n",
            "season                                     \n",
            "spring  32.288278    27.0  26.422805   1672\n",
            "winter  31.323725    28.0  22.374526    451\n",
            "Saved: /content/outputs/d2_mean_bat_landing_number_by_season.png\n",
            "T-test bat_landing_number: winter vs spring -> t=-0.780, p=0.4354\n",
            "\n",
            "food_availability by season:\n",
            "             mean    median       std  count\n",
            "season                                     \n",
            "spring  2.467686  3.000000  1.192603   1672\n",
            "winter  2.365012  2.516667  1.307626    451\n"
          ]
        },
        {
          "output_type": "stream",
          "name": "stderr",
          "text": [
            "/tmp/ipython-input-1234276474.py:26: FutureWarning: The default of observed=False is deprecated and will be changed to True in a future version of pandas. Pass observed=False to retain current behavior or observed=True to adopt the future default and silence this warning.\n",
            "  print(f\"\\n{col} by season:\\n\", d2.groupby(\"season\")[col].agg([\"mean\",\"median\",\"std\",\"count\"]))\n",
            "/tmp/ipython-input-1234276474.py:28: FutureWarning: The default of observed=False is deprecated and will be changed to True in a future version of pandas. Pass observed=False to retain current behavior or observed=True to adopt the future default and silence this warning.\n",
            "  d2.groupby(\"season\")[col].mean().plot(kind=\"bar\")\n",
            "/tmp/ipython-input-1234276474.py:26: FutureWarning: The default of observed=False is deprecated and will be changed to True in a future version of pandas. Pass observed=False to retain current behavior or observed=True to adopt the future default and silence this warning.\n",
            "  print(f\"\\n{col} by season:\\n\", d2.groupby(\"season\")[col].agg([\"mean\",\"median\",\"std\",\"count\"]))\n",
            "/tmp/ipython-input-1234276474.py:28: FutureWarning: The default of observed=False is deprecated and will be changed to True in a future version of pandas. Pass observed=False to retain current behavior or observed=True to adopt the future default and silence this warning.\n",
            "  d2.groupby(\"season\")[col].mean().plot(kind=\"bar\")\n"
          ]
        },
        {
          "output_type": "stream",
          "name": "stdout",
          "text": [
            "Saved: /content/outputs/d2_mean_food_availability_by_season.png\n",
            "T-test food_availability: winter vs spring -> t=-1.507, p=0.1323\n"
          ]
        }
      ],
      "source": [
        "\n",
        "# Risk-taking mean by season + t-tests\n",
        "if {\"season\",\"risk\"}.issubset(d1.columns):\n",
        "    season_risk_share = d1.groupby(\"season\")[\"risk\"].mean()\n",
        "    print(\"Mean risk-taking by season:\\n\", season_risk_share)\n",
        "    seasons = d1[\"season\"].dropna().unique().tolist()\n",
        "    if len(seasons) >= 2:\n",
        "        base = d1.loc[d1[\"season\"]==seasons[0], \"risk\"].astype(float)\n",
        "        for s in seasons[1:]:\n",
        "            other = d1.loc[d1[\"season\"]==s, \"risk\"].astype(float)\n",
        "            t,pv = stats.ttest_ind(base, other, equal_var=False)\n",
        "            print(f\"T-test {seasons[0]} vs {s} (risk mean): t={t:.3f}, p={pv:.4f}\")\n",
        "\n",
        "# Seasonal comparisons for dataset2\n",
        "def ttest_winter_spring(series, name):\n",
        "    try:\n",
        "        w = series[d2[\"season\"]==\"winter\"].dropna().astype(float)\n",
        "        sp = series[d2[\"season\"]==\"spring\"].dropna().astype(float)\n",
        "        if len(w)>1 and len(sp)>1:\n",
        "            t, p = stats.ttest_ind(w, sp, equal_var=False)\n",
        "            print(f\"T-test {name}: winter vs spring -> t={t:.3f}, p={p:.4f}\")\n",
        "    except Exception as e:\n",
        "        print(f\"T-test {name} failed:\", e)\n",
        "\n",
        "for col in [\"rat_arrival_number\",\"rat_minutes\",\"bat_landing_number\",\"food_availability\"]:\n",
        "    if col in d2.columns and \"season\" in d2.columns:\n",
        "        print(f\"\\n{col} by season:\\n\", d2.groupby(\"season\")[col].agg([\"mean\",\"median\",\"std\",\"count\"]))\n",
        "        plt.figure()\n",
        "        d2.groupby(\"season\")[col].mean().plot(kind=\"bar\")\n",
        "        plt.title(f\"Mean {col} by season\")\n",
        "        plt.xlabel(\"season\")\n",
        "        plt.ylabel(f\"mean {col}\")\n",
        "        save_current_plot(f\"d2_mean_{col}_by_season\")\n",
        "        ttest_winter_spring(d2[col], col)\n"
      ]
    },
    {
      "cell_type": "markdown",
      "id": "c4c336f8",
      "metadata": {
        "id": "c4c336f8"
      },
      "source": [
        "> Interpretation: Summarize significant seasonal differences and relate to winter scarcity vs spring abundance."
      ]
    },
    {
      "cell_type": "markdown",
      "id": "8925f961",
      "metadata": {
        "id": "8925f961"
      },
      "source": [
        "## 7) Feature Engineering"
      ]
    },
    {
      "cell_type": "code",
      "execution_count": 9,
      "id": "d5d2e4cd",
      "metadata": {
        "colab": {
          "base_uri": "https://localhost:8080/"
        },
        "id": "d5d2e4cd",
        "outputId": "f96195c0-8984-4a86-b8a9-ae396b1eb45f"
      },
      "outputs": [
        {
          "output_type": "stream",
          "name": "stdout",
          "text": [
            "Engineered feature means by season:\n",
            "         rat_pressure  landing_rate_per_rat\n",
            "season                                    \n",
            "spring      0.080670             27.531437\n",
            "winter      0.013881             29.545824\n"
          ]
        },
        {
          "output_type": "stream",
          "name": "stderr",
          "text": [
            "/tmp/ipython-input-2564384809.py:8: FutureWarning: The default of observed=False is deprecated and will be changed to True in a future version of pandas. Pass observed=False to retain current behavior or observed=True to adopt the future default and silence this warning.\n",
            "  print(\"Engineered feature means by season:\\n\", d2.groupby(\"season\")[eng_cols].mean())\n"
          ]
        }
      ],
      "source": [
        "\n",
        "if \"rat_minutes\" in d2.columns:\n",
        "    d2[\"rat_pressure\"] = d2[\"rat_minutes\"] / 30.0\n",
        "if {\"bat_landing_number\",\"rat_arrival_number\"}.issubset(d2.columns):\n",
        "    d2[\"landing_rate_per_rat\"] = d2[\"bat_landing_number\"] / (d2[\"rat_arrival_number\"] + 1)\n",
        "\n",
        "eng_cols = [c for c in [\"rat_pressure\",\"landing_rate_per_rat\"] if c in d2.columns]\n",
        "if eng_cols:\n",
        "    print(\"Engineered feature means by season:\\n\", d2.groupby(\"season\")[eng_cols].mean())\n"
      ]
    },
    {
      "cell_type": "markdown",
      "id": "ce868741",
      "metadata": {
        "id": "ce868741"
      },
      "source": [
        "> Interpretation: Explain what these features capture and how they support A/B."
      ]
    },
    {
      "cell_type": "markdown",
      "id": "ae990006",
      "metadata": {
        "id": "ae990006"
      },
      "source": [
        "## 8) Optional: Predict Reward (logistic regression)"
      ]
    },
    {
      "cell_type": "code",
      "execution_count": 10,
      "id": "c6093e6a",
      "metadata": {
        "colab": {
          "base_uri": "https://localhost:8080/"
        },
        "id": "c6093e6a",
        "outputId": "4fc20550-67da-426e-a581-9d0127cac8ec"
      },
      "outputs": [
        {
          "output_type": "stream",
          "name": "stdout",
          "text": [
            "Reward model failed: Singular matrix\n"
          ]
        },
        {
          "output_type": "stream",
          "name": "stderr",
          "text": [
            "/usr/local/lib/python3.12/dist-packages/statsmodels/discrete/discrete_model.py:2385: RuntimeWarning: overflow encountered in exp\n",
            "  return 1/(1+np.exp(-X))\n",
            "/usr/local/lib/python3.12/dist-packages/statsmodels/discrete/discrete_model.py:2443: RuntimeWarning: divide by zero encountered in log\n",
            "  return np.sum(np.log(self.cdf(q * linpred)))\n"
          ]
        }
      ],
      "source": [
        "\n",
        "if \"reward\" in d1.columns:\n",
        "    try:\n",
        "        d1[\"reward\"] = d1[\"reward\"].astype(int)\n",
        "        preds = []\n",
        "        if \"seconds_after_rat_arrival\" in d1.columns: preds.append(\"seconds_after_rat_arrival\")\n",
        "        if \"hours_after_sunset\" in d1.columns: preds.append(\"hours_after_sunset\")\n",
        "        if \"habit\" in d1.columns: preds.append(\"C(habit)\")\n",
        "        if \"month\" in d1.columns: preds.append(\"C(month)\")\n",
        "        if preds:\n",
        "            f = \"reward ~ \" + \" + \".join(preds)\n",
        "            mR = smf.logit(f, data=d1.dropna()).fit(disp=False)\n",
        "            print(mR.summary2().as_text())\n",
        "    except Exception as e:\n",
        "        print(\"Reward model failed:\", e)\n"
      ]
    },
    {
      "cell_type": "markdown",
      "id": "bb84ff0a",
      "metadata": {
        "id": "bb84ff0a"
      },
      "source": [
        "> Interpretation: Note predictors that increase reward probability."
      ]
    },
    {
      "cell_type": "markdown",
      "id": "bb3838d8",
      "metadata": {
        "id": "bb3838d8"
      },
      "source": [
        "## 9) Save Clean Data and Tables"
      ]
    },
    {
      "cell_type": "code",
      "execution_count": 11,
      "id": "9219b454",
      "metadata": {
        "colab": {
          "base_uri": "https://localhost:8080/"
        },
        "id": "9219b454",
        "outputId": "12f711c0-f290-48e7-c468-6ceae0a639fe"
      },
      "outputs": [
        {
          "output_type": "stream",
          "name": "stdout",
          "text": [
            "Saved clean datasets to /content/outputs\n",
            "Saved: /content/outputs/table_mean_risk_by_season.csv\n",
            "Saved: /content/outputs/table_mean_rat_arrivals_by_season.csv\n"
          ]
        },
        {
          "output_type": "stream",
          "name": "stderr",
          "text": [
            "/tmp/ipython-input-2176298291.py:6: FutureWarning: The default of observed=False is deprecated and will be changed to True in a future version of pandas. Pass observed=False to retain current behavior or observed=True to adopt the future default and silence this warning.\n",
            "  (d1.groupby(\"season\")[\"risk\"].mean()\n",
            "/tmp/ipython-input-2176298291.py:12: FutureWarning: The default of observed=False is deprecated and will be changed to True in a future version of pandas. Pass observed=False to retain current behavior or observed=True to adopt the future default and silence this warning.\n",
            "  (d2.groupby(\"season\")[\"rat_arrival_number\"].mean()\n"
          ]
        }
      ],
      "source": [
        "\n",
        "d1.to_csv(f\"{OUTPUT_DIR}/dataset1_clean.csv\", index=False)\n",
        "d2.to_csv(f\"{OUTPUT_DIR}/dataset2_clean.csv\", index=False)\n",
        "print(f\"Saved clean datasets to {OUTPUT_DIR}\")\n",
        "\n",
        "if \"season\" in d1.columns and \"risk\" in d1.columns:\n",
        "    (d1.groupby(\"season\")[\"risk\"].mean()\n",
        "       .to_frame(\"mean_risk\")\n",
        "       .to_csv(f\"{OUTPUT_DIR}/table_mean_risk_by_season.csv\"))\n",
        "    print(f\"Saved: {OUTPUT_DIR}/table_mean_risk_by_season.csv\")\n",
        "\n",
        "if \"season\" in d2.columns and \"rat_arrival_number\" in d2.columns:\n",
        "    (d2.groupby(\"season\")[\"rat_arrival_number\"].mean()\n",
        "       .to_frame(\"mean_rat_arrivals\")\n",
        "       .to_csv(f\"{OUTPUT_DIR}/table_mean_rat_arrivals_by_season.csv\"))\n",
        "    print(f\"Saved: {OUTPUT_DIR}/table_mean_rat_arrivals_by_season.csv\")\n"
      ]
    },
    {
      "cell_type": "code",
      "source": [
        "import shutil\n",
        "from google.colab import files\n",
        "\n",
        "# Create zip archive of the folder\n",
        "shutil.make_archive(\"/content/outputs\", 'zip', \"/content/outputs\")\n",
        "\n",
        "# Download the zip file\n",
        "files.download(\"/content/outputs.zip\")\n"
      ],
      "metadata": {
        "colab": {
          "base_uri": "https://localhost:8080/",
          "height": 17
        },
        "id": "LVed4fGlE2mq",
        "outputId": "d1a60b10-eac0-4022-8f41-4f28fdc83ac1"
      },
      "id": "LVed4fGlE2mq",
      "execution_count": 12,
      "outputs": [
        {
          "output_type": "display_data",
          "data": {
            "text/plain": [
              "<IPython.core.display.Javascript object>"
            ],
            "application/javascript": [
              "\n",
              "    async function download(id, filename, size) {\n",
              "      if (!google.colab.kernel.accessAllowed) {\n",
              "        return;\n",
              "      }\n",
              "      const div = document.createElement('div');\n",
              "      const label = document.createElement('label');\n",
              "      label.textContent = `Downloading \"${filename}\": `;\n",
              "      div.appendChild(label);\n",
              "      const progress = document.createElement('progress');\n",
              "      progress.max = size;\n",
              "      div.appendChild(progress);\n",
              "      document.body.appendChild(div);\n",
              "\n",
              "      const buffers = [];\n",
              "      let downloaded = 0;\n",
              "\n",
              "      const channel = await google.colab.kernel.comms.open(id);\n",
              "      // Send a message to notify the kernel that we're ready.\n",
              "      channel.send({})\n",
              "\n",
              "      for await (const message of channel.messages) {\n",
              "        // Send a message to notify the kernel that we're ready.\n",
              "        channel.send({})\n",
              "        if (message.buffers) {\n",
              "          for (const buffer of message.buffers) {\n",
              "            buffers.push(buffer);\n",
              "            downloaded += buffer.byteLength;\n",
              "            progress.value = downloaded;\n",
              "          }\n",
              "        }\n",
              "      }\n",
              "      const blob = new Blob(buffers, {type: 'application/binary'});\n",
              "      const a = document.createElement('a');\n",
              "      a.href = window.URL.createObjectURL(blob);\n",
              "      a.download = filename;\n",
              "      div.appendChild(a);\n",
              "      a.click();\n",
              "      div.remove();\n",
              "    }\n",
              "  "
            ]
          },
          "metadata": {}
        },
        {
          "output_type": "display_data",
          "data": {
            "text/plain": [
              "<IPython.core.display.Javascript object>"
            ],
            "application/javascript": [
              "download(\"download_f9a84ebe-c76f-4db8-a2ec-45540f93acbe\", \"outputs.zip\", 175772)"
            ]
          },
          "metadata": {}
        }
      ]
    },
    {
      "cell_type": "markdown",
      "id": "1b06ed72",
      "metadata": {
        "id": "1b06ed72"
      },
      "source": [
        "> Interpretation: List which PNGs and CSVs you will insert into the Word report."
      ]
    },
    {
      "cell_type": "markdown",
      "id": "a932d347",
      "metadata": {
        "id": "a932d347"
      },
      "source": [
        "\n",
        "## 10) Report Checklist (to include in .docx)\n",
        "- Introduction, objectives A and B\n",
        "- Methods: data cleaning, variables, tests, feature engineering\n",
        "- Results: key tables and figures saved in `/content/outputs`\n",
        "- Discussion and limitations\n",
        "- Conclusion and references\n",
        "- Individual contributions\n",
        "- Link to code repository + datasets\n",
        "- Turnitin report + AI usage declaration\n"
      ]
    }
  ],
  "metadata": {
    "colab": {
      "provenance": [],
      "gpuType": "T4"
    },
    "language_info": {
      "name": "python"
    },
    "kernelspec": {
      "name": "python3",
      "display_name": "Python 3"
    },
    "accelerator": "GPU"
  },
  "nbformat": 4,
  "nbformat_minor": 5
}